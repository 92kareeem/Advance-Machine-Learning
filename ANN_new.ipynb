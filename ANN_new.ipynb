{
 "cells": [
  {
   "cell_type": "markdown",
   "id": "9a6f5ed2-e807-495d-81a0-ab06e808c3b8",
   "metadata": {},
   "source": [
    "***Dataset***"
   ]
  },
  {
   "cell_type": "code",
   "execution_count": 2,
   "id": "7b482de7-5c14-42e2-8e0e-328210b9001b",
   "metadata": {},
   "outputs": [
    {
     "name": "stdout",
     "output_type": "stream",
     "text": [
      "   Input1  Input2  Output\n",
      "0       0       0       0\n",
      "1       0       1       1\n",
      "2       1       0       1\n",
      "3       1       1       0\n"
     ]
    }
   ],
   "source": [
    "import pandas as pd\n",
    "\n",
    "# Generate XOR dataset\n",
    "data = {\n",
    "    'Input1': [0, 0, 1, 1],\n",
    "    'Input2': [0, 1, 0, 1],\n",
    "    'Output': [0, 1, 1, 0]\n",
    "}\n",
    "xor_data = pd.DataFrame(data)\n",
    "xor_data.to_csv('xor_data.csv', index=False)\n",
    "\n",
    "print(xor_data)"
   ]
  },
  {
   "cell_type": "code",
   "execution_count": 4,
   "id": "8091b53a-49bb-481b-b477-8248ba554bbb",
   "metadata": {},
   "outputs": [
    {
     "name": "stdout",
     "output_type": "stream",
     "text": [
      "Epoch 1, Loss: 0.30790360807177086\n",
      "Epoch 2, Loss: 0.30737916923016073\n",
      "Epoch 3, Loss: 0.30685670476426213\n",
      "Epoch 4, Loss: 0.30633625183629115\n",
      "Epoch 5, Loss: 0.3058178471682359\n",
      "Epoch 6, Loss: 0.30530152702803837\n",
      "Epoch 7, Loss: 0.30478732721604296\n",
      "Epoch 8, Loss: 0.30427528305172136\n",
      "Epoch 9, Loss: 0.3037654293606886\n",
      "Epoch 10, Loss: 0.3032578004620202\n",
      "Epoch 11, Loss: 0.3027524301558798\n",
      "Epoch 12, Loss: 0.30224935171147044\n",
      "Epoch 13, Loss: 0.30174859785531766\n",
      "Epoch 14, Loss: 0.30125020075989456\n",
      "Epoch 15, Loss: 0.30075419203259934\n",
      "Epoch 16, Loss: 0.300260602705092\n",
      "Epoch 17, Loss: 0.29976946322300035\n",
      "Epoch 18, Loss: 0.29928080343600333\n",
      "Epoch 19, Loss: 0.298794652588297\n",
      "Epoch 20, Loss: 0.2983110393094538\n",
      "Final predictions (in percentage):\n",
      "[[69.9251765 ]\n",
      " [70.51775081]\n",
      " [73.38268828]\n",
      " [73.79691765]]\n"
     ]
    }
   ],
   "source": [
    "import numpy as np\n",
    "import pandas as pd\n",
    "\n",
    "data = pd.read_csv('xor_data.csv')\n",
    "X = data[['Input1', 'Input2']].values\n",
    "y = data[['Output']].values\n",
    "\n",
    "def sigmoid(x):\n",
    "    return 1 / (1 + np.exp(-x))\n",
    "\n",
    "def sigmoid_derivative(x):\n",
    "    return x * (1 - x)\n",
    "\n",
    "class NeuralNetwork:\n",
    "    def __init__(self, input_size, hidden_size, output_size):\n",
    "        self.weights_input_hidden = np.random.rand(input_size, hidden_size)\n",
    "        self.bias_hidden = np.random.rand(1, hidden_size)\n",
    "        self.weights_hidden_output = np.random.rand(hidden_size, output_size)\n",
    "        self.bias_output = np.random.rand(1, output_size)\n",
    "\n",
    "    def forward(self, X):\n",
    "        self.hidden_output = sigmoid(np.dot(X, self.weights_input_hidden) + self.bias_hidden)\n",
    "        self.output = sigmoid(np.dot(self.hidden_output, self.weights_hidden_output) + self.bias_output)\n",
    "        return self.output\n",
    "\n",
    "    def backward(self, X, y, learning_rate):\n",
    "        error = y - self.output\n",
    "        d_output = error * sigmoid_derivative(self.output)\n",
    "        error_hidden = d_output.dot(self.weights_hidden_output.T)\n",
    "        d_hidden = error_hidden * sigmoid_derivative(self.hidden_output)\n",
    "\n",
    "        # Update weights and biases\n",
    "        self.weights_hidden_output += self.hidden_output.T.dot(d_output) * learning_rate\n",
    "        self.bias_output += np.sum(d_output, axis=0, keepdims=True) * learning_rate\n",
    "        self.weights_input_hidden += X.T.dot(d_hidden) * learning_rate\n",
    "        self.bias_hidden += np.sum(d_hidden, axis=0, keepdims=True) * learning_rate\n",
    "\n",
    "    def train(self, X, y, epochs, learning_rate):\n",
    "        for epoch in range(epochs):\n",
    "            self.forward(X)\n",
    "            self.backward(X, y, learning_rate)\n",
    "            loss = np.mean(np.square(y - self.output))\n",
    "            print(f'Epoch {epoch + 1}, Loss: {loss}')\n",
    "\n",
    "# Network configuration\n",
    "input_size = 2\n",
    "hidden_size = 4\n",
    "output_size = 1\n",
    "epochs = 20\n",
    "learning_rate = 0.01        \n",
    "\n",
    "# Create and train the neural network\n",
    "model = NeuralNetwork(input_size, hidden_size, output_size)\n",
    "model.train(X, y, epochs, learning_rate)\n",
    "\n",
    "# Final predictions\n",
    "print(\"Final predictions (in percentage):\")\n",
    "print(model.forward(X) * 100)"
   ]
  },
  {
   "cell_type": "code",
   "execution_count": null,
   "id": "06aa739c-21b8-4e0b-ae46-e5b63fdffcfd",
   "metadata": {},
   "outputs": [],
   "source": []
  }
 ],
 "metadata": {
  "kernelspec": {
   "display_name": "Python 3 (ipykernel)",
   "language": "python",
   "name": "python3"
  },
  "language_info": {
   "codemirror_mode": {
    "name": "ipython",
    "version": 3
   },
   "file_extension": ".py",
   "mimetype": "text/x-python",
   "name": "python",
   "nbconvert_exporter": "python",
   "pygments_lexer": "ipython3",
   "version": "3.12.4"
  }
 },
 "nbformat": 4,
 "nbformat_minor": 5
}
